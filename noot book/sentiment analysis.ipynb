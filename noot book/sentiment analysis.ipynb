{
 "cells": [
  {
   "cell_type": "markdown",
   "id": "7280f013-d179-42d9-b5bf-db85e52052bc",
   "metadata": {},
   "source": [
    "## sentiment analysis for the stock market data"
   ]
  },
  {
   "cell_type": "code",
   "id": "2e24afa8-e0eb-4e3a-982f-b19852afa429",
   "metadata": {
    "ExecuteTime": {
     "end_time": "2024-12-18T07:47:17.019275Z",
     "start_time": "2024-12-18T07:47:17.012604Z"
    }
   },
   "source": [
    "import re\n",
    "import nltk\n",
    "import pandas as pd\n",
    "import seaborn as sns\n",
    "from collections import Counter\n",
    "import matplotlib.pyplot as plt\n",
    "from nltk.corpus import stopwords\n",
    "from sklearn.feature_extraction.text import CountVectorizer\n",
    "from sklearn.decomposition import LatentDirichletAllocation"
   ],
   "outputs": [],
   "execution_count": 8
  },
  {
   "cell_type": "code",
   "id": "e796b5c7-e69f-470c-82ea-64397f4652a9",
   "metadata": {
    "ExecuteTime": {
     "end_time": "2024-12-18T07:47:37.888545Z",
     "start_time": "2024-12-18T07:47:24.210797Z"
    }
   },
   "source": [
    "df = pd.read_csv(r\"C:\\Users\\bisrte ayalew\\Downloads\\Data-20241215T063024Z-001\\Data\\raw_analyst_ratings.csv\\raw_analyst_ratings.csv\")\n",
    "df.head()"
   ],
   "outputs": [
    {
     "data": {
      "text/plain": [
       "   Unnamed: 0                                           headline  \\\n",
       "0           0            Stocks That Hit 52-Week Highs On Friday   \n",
       "1           1         Stocks That Hit 52-Week Highs On Wednesday   \n",
       "2           2                      71 Biggest Movers From Friday   \n",
       "3           3       46 Stocks Moving In Friday's Mid-Day Session   \n",
       "4           4  B of A Securities Maintains Neutral on Agilent...   \n",
       "\n",
       "                                                 url          publisher  \\\n",
       "0  https://www.benzinga.com/news/20/06/16190091/s...  Benzinga Insights   \n",
       "1  https://www.benzinga.com/news/20/06/16170189/s...  Benzinga Insights   \n",
       "2  https://www.benzinga.com/news/20/05/16103463/7...         Lisa Levin   \n",
       "3  https://www.benzinga.com/news/20/05/16095921/4...         Lisa Levin   \n",
       "4  https://www.benzinga.com/news/20/05/16095304/b...         Vick Meyer   \n",
       "\n",
       "                        date stock  \n",
       "0  2020-06-05 10:30:54-04:00     A  \n",
       "1  2020-06-03 10:45:20-04:00     A  \n",
       "2  2020-05-26 04:30:07-04:00     A  \n",
       "3  2020-05-22 12:45:06-04:00     A  \n",
       "4  2020-05-22 11:38:59-04:00     A  "
      ],
      "text/html": [
       "<div>\n",
       "<style scoped>\n",
       "    .dataframe tbody tr th:only-of-type {\n",
       "        vertical-align: middle;\n",
       "    }\n",
       "\n",
       "    .dataframe tbody tr th {\n",
       "        vertical-align: top;\n",
       "    }\n",
       "\n",
       "    .dataframe thead th {\n",
       "        text-align: right;\n",
       "    }\n",
       "</style>\n",
       "<table border=\"1\" class=\"dataframe\">\n",
       "  <thead>\n",
       "    <tr style=\"text-align: right;\">\n",
       "      <th></th>\n",
       "      <th>Unnamed: 0</th>\n",
       "      <th>headline</th>\n",
       "      <th>url</th>\n",
       "      <th>publisher</th>\n",
       "      <th>date</th>\n",
       "      <th>stock</th>\n",
       "    </tr>\n",
       "  </thead>\n",
       "  <tbody>\n",
       "    <tr>\n",
       "      <th>0</th>\n",
       "      <td>0</td>\n",
       "      <td>Stocks That Hit 52-Week Highs On Friday</td>\n",
       "      <td>https://www.benzinga.com/news/20/06/16190091/s...</td>\n",
       "      <td>Benzinga Insights</td>\n",
       "      <td>2020-06-05 10:30:54-04:00</td>\n",
       "      <td>A</td>\n",
       "    </tr>\n",
       "    <tr>\n",
       "      <th>1</th>\n",
       "      <td>1</td>\n",
       "      <td>Stocks That Hit 52-Week Highs On Wednesday</td>\n",
       "      <td>https://www.benzinga.com/news/20/06/16170189/s...</td>\n",
       "      <td>Benzinga Insights</td>\n",
       "      <td>2020-06-03 10:45:20-04:00</td>\n",
       "      <td>A</td>\n",
       "    </tr>\n",
       "    <tr>\n",
       "      <th>2</th>\n",
       "      <td>2</td>\n",
       "      <td>71 Biggest Movers From Friday</td>\n",
       "      <td>https://www.benzinga.com/news/20/05/16103463/7...</td>\n",
       "      <td>Lisa Levin</td>\n",
       "      <td>2020-05-26 04:30:07-04:00</td>\n",
       "      <td>A</td>\n",
       "    </tr>\n",
       "    <tr>\n",
       "      <th>3</th>\n",
       "      <td>3</td>\n",
       "      <td>46 Stocks Moving In Friday's Mid-Day Session</td>\n",
       "      <td>https://www.benzinga.com/news/20/05/16095921/4...</td>\n",
       "      <td>Lisa Levin</td>\n",
       "      <td>2020-05-22 12:45:06-04:00</td>\n",
       "      <td>A</td>\n",
       "    </tr>\n",
       "    <tr>\n",
       "      <th>4</th>\n",
       "      <td>4</td>\n",
       "      <td>B of A Securities Maintains Neutral on Agilent...</td>\n",
       "      <td>https://www.benzinga.com/news/20/05/16095304/b...</td>\n",
       "      <td>Vick Meyer</td>\n",
       "      <td>2020-05-22 11:38:59-04:00</td>\n",
       "      <td>A</td>\n",
       "    </tr>\n",
       "  </tbody>\n",
       "</table>\n",
       "</div>"
      ]
     },
     "execution_count": 9,
     "metadata": {},
     "output_type": "execute_result"
    }
   ],
   "execution_count": 9
  },
  {
   "cell_type": "code",
   "id": "42c73ea2-0c76-4959-bb69-d836b9713b4f",
   "metadata": {
    "ExecuteTime": {
     "end_time": "2024-12-18T07:47:54.194238Z",
     "start_time": "2024-12-18T07:47:53.064308Z"
    }
   },
   "source": [
    "nltk.download('vader_lexicon')"
   ],
   "outputs": [
    {
     "name": "stderr",
     "output_type": "stream",
     "text": [
      "[nltk_data] Downloading package vader_lexicon to C:\\Users\\bisrte\n",
      "[nltk_data]     ayalew\\AppData\\Roaming\\nltk_data...\n",
      "[nltk_data]   Package vader_lexicon is already up-to-date!\n"
     ]
    },
    {
     "data": {
      "text/plain": [
       "True"
      ]
     },
     "execution_count": 10,
     "metadata": {},
     "output_type": "execute_result"
    }
   ],
   "execution_count": 10
  },
  {
   "cell_type": "markdown",
   "id": "fe28bda1-ee3e-4c9f-9a79-e1f2625a5320",
   "metadata": {},
   "source": [
    "data cleaning and preparing "
   ]
  },
  {
   "cell_type": "code",
   "id": "85cdb47e-f27b-40d7-8c2b-2cc7ab159ad0",
   "metadata": {
    "ExecuteTime": {
     "end_time": "2024-12-18T07:48:09.660738Z",
     "start_time": "2024-12-18T07:48:09.125700Z"
    }
   },
   "source": [
    "df.isnull().sum()"
   ],
   "outputs": [
    {
     "data": {
      "text/plain": [
       "Unnamed: 0    0\n",
       "headline      0\n",
       "url           0\n",
       "publisher     0\n",
       "date          0\n",
       "stock         0\n",
       "dtype: int64"
      ]
     },
     "execution_count": 11,
     "metadata": {},
     "output_type": "execute_result"
    }
   ],
   "execution_count": 11
  },
  {
   "cell_type": "code",
   "id": "a5c1dab7-a806-4204-a483-7cbbf9ea7701",
   "metadata": {
    "ExecuteTime": {
     "end_time": "2024-12-18T07:48:18.186839Z",
     "start_time": "2024-12-18T07:48:16.932682Z"
    }
   },
   "source": [
    "df.info()"
   ],
   "outputs": [
    {
     "name": "stdout",
     "output_type": "stream",
     "text": [
      "<class 'pandas.core.frame.DataFrame'>\n",
      "RangeIndex: 1407328 entries, 0 to 1407327\n",
      "Data columns (total 6 columns):\n",
      " #   Column      Non-Null Count    Dtype \n",
      "---  ------      --------------    ----- \n",
      " 0   Unnamed: 0  1407328 non-null  int64 \n",
      " 1   headline    1407328 non-null  object\n",
      " 2   url         1407328 non-null  object\n",
      " 3   publisher   1407328 non-null  object\n",
      " 4   date        1407328 non-null  object\n",
      " 5   stock       1407328 non-null  object\n",
      "dtypes: int64(1), object(5)\n",
      "memory usage: 64.4+ MB\n"
     ]
    }
   ],
   "execution_count": 12
  },
  {
   "cell_type": "code",
   "id": "3980c1da-112f-4dc3-a5cf-42e5351c55ef",
   "metadata": {
    "ExecuteTime": {
     "end_time": "2024-12-18T07:48:29.493387Z",
     "start_time": "2024-12-18T07:48:29.472518Z"
    }
   },
   "source": [
    "df.shape"
   ],
   "outputs": [
    {
     "data": {
      "text/plain": [
       "(1407328, 6)"
      ]
     },
     "execution_count": 14,
     "metadata": {},
     "output_type": "execute_result"
    }
   ],
   "execution_count": 14
  },
  {
   "cell_type": "code",
   "id": "34b9f5d9-f6e8-4543-81c7-e571676add1a",
   "metadata": {
    "ExecuteTime": {
     "end_time": "2024-12-18T07:49:10.326819Z",
     "start_time": "2024-12-18T07:48:45.079454Z"
    }
   },
   "source": [
    "df['date'] = pd.to_datetime(df['date'], format='%Y-%m-%d %H:%M:%S', errors='coerce')\n",
    "df['headline_length'] = df['headline'].apply(len)\n",
    "time_data = df['date'].apply(lambda x: pd.notna(x) and isinstance(x, pd.Timestamp) and x.time() != pd.Timestamp.min.time())\n",
    "print(time_data.sum())"
   ],
   "outputs": [
    {
     "name": "stdout",
     "output_type": "stream",
     "text": [
      "1351341\n"
     ]
    }
   ],
   "execution_count": 15
  },
  {
   "cell_type": "code",
   "id": "0e8b0201-ed23-46ac-a89b-12af7cbe0fe0",
   "metadata": {
    "ExecuteTime": {
     "end_time": "2024-12-18T07:52:38.108912Z",
     "start_time": "2024-12-18T07:52:37.173970Z"
    }
   },
   "source": [
    "senti_data = df.copy()\n",
    "from nltk.sentiment.vader import SentimentIntensityAnalyzer\n",
    "sia = SentimentIntensityAnalyzer()"
   ],
   "outputs": [],
   "execution_count": 16
  },
  {
   "cell_type": "code",
   "id": "6d7ae96b-6ab9-4fbf-8f6f-5ec5e62d8c83",
   "metadata": {
    "ExecuteTime": {
     "end_time": "2024-12-18T07:58:32.929999Z",
     "start_time": "2024-12-18T07:52:45.522384Z"
    }
   },
   "source": [
    "senti_data['sentiment'] = senti_data['headline'].apply(lambda x: sia.polarity_scores(text=x)['compound'])\n",
    "senti_data['sentiment_category'] = pd.cut(senti_data['sentiment'], bins=[-1, -0.5, -0.0001, 0.5, 1], labels=['Very Negative', 'Negative', 'Neutral', 'Positive'])\n",
    "senti_data.head()"
   ],
   "outputs": [
    {
     "data": {
      "text/plain": [
       "   Unnamed: 0                                           headline  \\\n",
       "0           0            Stocks That Hit 52-Week Highs On Friday   \n",
       "1           1         Stocks That Hit 52-Week Highs On Wednesday   \n",
       "2           2                      71 Biggest Movers From Friday   \n",
       "3           3       46 Stocks Moving In Friday's Mid-Day Session   \n",
       "4           4  B of A Securities Maintains Neutral on Agilent...   \n",
       "\n",
       "                                                 url          publisher date  \\\n",
       "0  https://www.benzinga.com/news/20/06/16190091/s...  Benzinga Insights  NaT   \n",
       "1  https://www.benzinga.com/news/20/06/16170189/s...  Benzinga Insights  NaT   \n",
       "2  https://www.benzinga.com/news/20/05/16103463/7...         Lisa Levin  NaT   \n",
       "3  https://www.benzinga.com/news/20/05/16095921/4...         Lisa Levin  NaT   \n",
       "4  https://www.benzinga.com/news/20/05/16095304/b...         Vick Meyer  NaT   \n",
       "\n",
       "  stock  headline_length  sentiment sentiment_category  \n",
       "0     A               39      0.000            Neutral  \n",
       "1     A               42      0.000            Neutral  \n",
       "2     A               29      0.000            Neutral  \n",
       "3     A               44      0.000            Neutral  \n",
       "4     A               87      0.296            Neutral  "
      ],
      "text/html": [
       "<div>\n",
       "<style scoped>\n",
       "    .dataframe tbody tr th:only-of-type {\n",
       "        vertical-align: middle;\n",
       "    }\n",
       "\n",
       "    .dataframe tbody tr th {\n",
       "        vertical-align: top;\n",
       "    }\n",
       "\n",
       "    .dataframe thead th {\n",
       "        text-align: right;\n",
       "    }\n",
       "</style>\n",
       "<table border=\"1\" class=\"dataframe\">\n",
       "  <thead>\n",
       "    <tr style=\"text-align: right;\">\n",
       "      <th></th>\n",
       "      <th>Unnamed: 0</th>\n",
       "      <th>headline</th>\n",
       "      <th>url</th>\n",
       "      <th>publisher</th>\n",
       "      <th>date</th>\n",
       "      <th>stock</th>\n",
       "      <th>headline_length</th>\n",
       "      <th>sentiment</th>\n",
       "      <th>sentiment_category</th>\n",
       "    </tr>\n",
       "  </thead>\n",
       "  <tbody>\n",
       "    <tr>\n",
       "      <th>0</th>\n",
       "      <td>0</td>\n",
       "      <td>Stocks That Hit 52-Week Highs On Friday</td>\n",
       "      <td>https://www.benzinga.com/news/20/06/16190091/s...</td>\n",
       "      <td>Benzinga Insights</td>\n",
       "      <td>NaT</td>\n",
       "      <td>A</td>\n",
       "      <td>39</td>\n",
       "      <td>0.000</td>\n",
       "      <td>Neutral</td>\n",
       "    </tr>\n",
       "    <tr>\n",
       "      <th>1</th>\n",
       "      <td>1</td>\n",
       "      <td>Stocks That Hit 52-Week Highs On Wednesday</td>\n",
       "      <td>https://www.benzinga.com/news/20/06/16170189/s...</td>\n",
       "      <td>Benzinga Insights</td>\n",
       "      <td>NaT</td>\n",
       "      <td>A</td>\n",
       "      <td>42</td>\n",
       "      <td>0.000</td>\n",
       "      <td>Neutral</td>\n",
       "    </tr>\n",
       "    <tr>\n",
       "      <th>2</th>\n",
       "      <td>2</td>\n",
       "      <td>71 Biggest Movers From Friday</td>\n",
       "      <td>https://www.benzinga.com/news/20/05/16103463/7...</td>\n",
       "      <td>Lisa Levin</td>\n",
       "      <td>NaT</td>\n",
       "      <td>A</td>\n",
       "      <td>29</td>\n",
       "      <td>0.000</td>\n",
       "      <td>Neutral</td>\n",
       "    </tr>\n",
       "    <tr>\n",
       "      <th>3</th>\n",
       "      <td>3</td>\n",
       "      <td>46 Stocks Moving In Friday's Mid-Day Session</td>\n",
       "      <td>https://www.benzinga.com/news/20/05/16095921/4...</td>\n",
       "      <td>Lisa Levin</td>\n",
       "      <td>NaT</td>\n",
       "      <td>A</td>\n",
       "      <td>44</td>\n",
       "      <td>0.000</td>\n",
       "      <td>Neutral</td>\n",
       "    </tr>\n",
       "    <tr>\n",
       "      <th>4</th>\n",
       "      <td>4</td>\n",
       "      <td>B of A Securities Maintains Neutral on Agilent...</td>\n",
       "      <td>https://www.benzinga.com/news/20/05/16095304/b...</td>\n",
       "      <td>Vick Meyer</td>\n",
       "      <td>NaT</td>\n",
       "      <td>A</td>\n",
       "      <td>87</td>\n",
       "      <td>0.296</td>\n",
       "      <td>Neutral</td>\n",
       "    </tr>\n",
       "  </tbody>\n",
       "</table>\n",
       "</div>"
      ]
     },
     "execution_count": 17,
     "metadata": {},
     "output_type": "execute_result"
    }
   ],
   "execution_count": 17
  },
  {
   "cell_type": "code",
   "id": "dc9c886c-fc51-46f6-b537-7e277f02e571",
   "metadata": {
    "ExecuteTime": {
     "end_time": "2024-12-18T07:58:33.004701Z",
     "start_time": "2024-12-18T07:58:32.979460Z"
    }
   },
   "source": [
    "senti_data['sentiment_category'].value_counts()\n"
   ],
   "outputs": [
    {
     "data": {
      "text/plain": [
       "sentiment_category\n",
       "Neutral          1070915\n",
       "Negative          182864\n",
       "Positive          109718\n",
       "Very Negative      43831\n",
       "Name: count, dtype: int64"
      ]
     },
     "execution_count": 18,
     "metadata": {},
     "output_type": "execute_result"
    }
   ],
   "execution_count": 18
  },
  {
   "cell_type": "markdown",
   "id": "c6332556-3b70-4638-8c7c-0ea2a1898be8",
   "metadata": {},
   "source": [
    "## sentiment for the stock company"
   ]
  },
  {
   "cell_type": "code",
   "id": "12fbc51e-2a90-4192-8621-284a0330ae68",
   "metadata": {
    "ExecuteTime": {
     "end_time": "2024-12-17T17:25:59.099479Z",
     "start_time": "2024-12-17T17:25:58.906673Z"
    }
   },
   "source": [
    "apple = senti_data[senti_data['stock'] == 'AAPL']\n",
    "apple.head()"
   ],
   "outputs": [
    {
     "data": {
      "text/plain": [
       "      Unnamed: 0                                           headline  \\\n",
       "6680        7120  Tech Stocks And FAANGS Strong Again To Start D...   \n",
       "6681        7121      10 Biggest Price Target Changes For Wednesday   \n",
       "6682        7122  Benzinga Pro's Top 5 Stocks To Watch For Wed.,...   \n",
       "6683        7123  Deutsche Bank Maintains Buy on Apple, Raises P...   \n",
       "6684        7124  Apple To Let Users Trade In Their Mac Computer...   \n",
       "\n",
       "                                                    url          publisher  \\\n",
       "6680  https://www.benzinga.com/government/20/06/1622...         JJ Kinahan   \n",
       "6681  https://www.benzinga.com/analyst-ratings/price...         Lisa Levin   \n",
       "6682  https://www.benzinga.com/short-sellers/20/06/1...  Benzinga Newsdesk   \n",
       "6683  https://www.benzinga.com/news/20/06/16219873/d...  Benzinga Newsdesk   \n",
       "6684  https://www.benzinga.com/news/20/06/16218697/a...      Neer Varshney   \n",
       "\n",
       "     date stock  headline_length  sentiment sentiment_category  \n",
       "6680  NaT  AAPL               69     0.5574           Positive  \n",
       "6681  NaT  AAPL               45     0.0000            Neutral  \n",
       "6682  NaT  AAPL               87     0.2023            Neutral  \n",
       "6683  NaT  AAPL               65     0.0000            Neutral  \n",
       "6684  NaT  AAPL               87     0.3818            Neutral  "
      ],
      "text/html": [
       "<div>\n",
       "<style scoped>\n",
       "    .dataframe tbody tr th:only-of-type {\n",
       "        vertical-align: middle;\n",
       "    }\n",
       "\n",
       "    .dataframe tbody tr th {\n",
       "        vertical-align: top;\n",
       "    }\n",
       "\n",
       "    .dataframe thead th {\n",
       "        text-align: right;\n",
       "    }\n",
       "</style>\n",
       "<table border=\"1\" class=\"dataframe\">\n",
       "  <thead>\n",
       "    <tr style=\"text-align: right;\">\n",
       "      <th></th>\n",
       "      <th>Unnamed: 0</th>\n",
       "      <th>headline</th>\n",
       "      <th>url</th>\n",
       "      <th>publisher</th>\n",
       "      <th>date</th>\n",
       "      <th>stock</th>\n",
       "      <th>headline_length</th>\n",
       "      <th>sentiment</th>\n",
       "      <th>sentiment_category</th>\n",
       "    </tr>\n",
       "  </thead>\n",
       "  <tbody>\n",
       "    <tr>\n",
       "      <th>6680</th>\n",
       "      <td>7120</td>\n",
       "      <td>Tech Stocks And FAANGS Strong Again To Start D...</td>\n",
       "      <td>https://www.benzinga.com/government/20/06/1622...</td>\n",
       "      <td>JJ Kinahan</td>\n",
       "      <td>NaT</td>\n",
       "      <td>AAPL</td>\n",
       "      <td>69</td>\n",
       "      <td>0.5574</td>\n",
       "      <td>Positive</td>\n",
       "    </tr>\n",
       "    <tr>\n",
       "      <th>6681</th>\n",
       "      <td>7121</td>\n",
       "      <td>10 Biggest Price Target Changes For Wednesday</td>\n",
       "      <td>https://www.benzinga.com/analyst-ratings/price...</td>\n",
       "      <td>Lisa Levin</td>\n",
       "      <td>NaT</td>\n",
       "      <td>AAPL</td>\n",
       "      <td>45</td>\n",
       "      <td>0.0000</td>\n",
       "      <td>Neutral</td>\n",
       "    </tr>\n",
       "    <tr>\n",
       "      <th>6682</th>\n",
       "      <td>7122</td>\n",
       "      <td>Benzinga Pro's Top 5 Stocks To Watch For Wed.,...</td>\n",
       "      <td>https://www.benzinga.com/short-sellers/20/06/1...</td>\n",
       "      <td>Benzinga Newsdesk</td>\n",
       "      <td>NaT</td>\n",
       "      <td>AAPL</td>\n",
       "      <td>87</td>\n",
       "      <td>0.2023</td>\n",
       "      <td>Neutral</td>\n",
       "    </tr>\n",
       "    <tr>\n",
       "      <th>6683</th>\n",
       "      <td>7123</td>\n",
       "      <td>Deutsche Bank Maintains Buy on Apple, Raises P...</td>\n",
       "      <td>https://www.benzinga.com/news/20/06/16219873/d...</td>\n",
       "      <td>Benzinga Newsdesk</td>\n",
       "      <td>NaT</td>\n",
       "      <td>AAPL</td>\n",
       "      <td>65</td>\n",
       "      <td>0.0000</td>\n",
       "      <td>Neutral</td>\n",
       "    </tr>\n",
       "    <tr>\n",
       "      <th>6684</th>\n",
       "      <td>7124</td>\n",
       "      <td>Apple To Let Users Trade In Their Mac Computer...</td>\n",
       "      <td>https://www.benzinga.com/news/20/06/16218697/a...</td>\n",
       "      <td>Neer Varshney</td>\n",
       "      <td>NaT</td>\n",
       "      <td>AAPL</td>\n",
       "      <td>87</td>\n",
       "      <td>0.3818</td>\n",
       "      <td>Neutral</td>\n",
       "    </tr>\n",
       "  </tbody>\n",
       "</table>\n",
       "</div>"
      ]
     },
     "execution_count": 15,
     "metadata": {},
     "output_type": "execute_result"
    }
   ],
   "execution_count": 15
  },
  {
   "cell_type": "code",
   "id": "ee048dc9-4911-4e56-8400-b98b5e5f765a",
   "metadata": {},
   "source": [
    "apple_count = apple['sentiment_category'].value_counts()\n"
   ],
   "outputs": [],
   "execution_count": null
  },
  {
   "cell_type": "code",
   "id": "e1929a07-b852-4bd0-af9e-c5b43d797631",
   "metadata": {},
   "source": [
    "def visualizing (stock):\n",
    "    plt.figure(figsize=(8, 6))\n",
    "    sns.barplot(x= stock.index, y=stock.values)\n",
    "    plt.title('Distribution of Sentiments')\n",
    "    plt.xlabel('Sentiment')\n",
    "    plt.ylabel('Number of Articles')\n",
    "    plt.show()\n",
    "\n",
    "visualizing(apple_count)"
   ],
   "outputs": [],
   "execution_count": null
  },
  {
   "cell_type": "markdown",
   "id": "951d9a9f-0e33-4ff7-bfe9-c97baa47a638",
   "metadata": {},
   "source": [
    "## for amazon"
   ]
  },
  {
   "cell_type": "code",
   "id": "32ac22df-4d1d-4fda-9546-5116a89248b8",
   "metadata": {},
   "source": [
    "AMZN = senti_data[senti_data['stock'] == 'AMZN']\n",
    "AMZN\n",
    "AMZN_COUNT = AMZN['sentiment_category'].value_counts()\n",
    "AMZN_COUNT \n",
    "visualizing(AMZN_COUNT)"
   ],
   "outputs": [],
   "execution_count": null
  },
  {
   "cell_type": "markdown",
   "id": "8f15fc71-8c72-4dd8-96e7-f60487fffcbe",
   "metadata": {},
   "source": [
    "##for google"
   ]
  },
  {
   "cell_type": "code",
   "id": "c011453c-a675-4b33-ab3a-4df9716c7f31",
   "metadata": {},
   "source": [
    "GOOG = senti_data[senti_data['stock'] == 'GOOG']\n",
    "GOOG\n",
    "GOOG_COUNT = GOOG['sentiment_category'].value_counts()\n",
    "GOOG_COUNT \n",
    "visualizing(GOOG_COUNT)"
   ],
   "outputs": [],
   "execution_count": null
  },
  {
   "cell_type": "markdown",
   "id": "4d699c19-041e-42f6-8f68-5bfbc28f3b3b",
   "metadata": {},
   "source": [
    "##for MFST"
   ]
  },
  {
   "cell_type": "code",
   "id": "596680ce-bbe9-481b-bb22-1917a5a27053",
   "metadata": {},
   "source": [
    "MSFT = senti_data[senti_data['stock'] == 'MSFT']\n",
    "print(MSFT)\n",
    "MSFT_COUNT = MSFT['sentiment_category'].value_counts()\n",
    "print(MSFT_COUNT)\n",
    "visualizing(MSFT_COUNT)"
   ],
   "outputs": [],
   "execution_count": null
  },
  {
   "cell_type": "markdown",
   "id": "92a15a63-bc14-47ad-acef-1e39a273393f",
   "metadata": {},
   "source": [
    "##FOR NVDA"
   ]
  },
  {
   "cell_type": "code",
   "id": "d39b054c-e850-4d6b-a841-66781dafcd8a",
   "metadata": {},
   "source": [
    "NVDA = senti_data[senti_data['stock'] == 'NVDA']\n",
    "NVDA\n",
    "NVDA_COUNT = NVDA['sentiment_category'].value_counts()\n",
    "print(NVDA_COUNT) \n",
    "visualizing(NVDA_COUNT)"
   ],
   "outputs": [],
   "execution_count": null
  },
  {
   "cell_type": "markdown",
   "id": "fbc765ba-163c-40cd-8c4a-9093d8456502",
   "metadata": {},
   "source": [
    "##FOR META "
   ]
  },
  {
   "cell_type": "code",
   "id": "af45337d-7716-4b01-b012-1b7e95b4e67b",
   "metadata": {},
   "source": [
    "META = senti_data[senti_data['stock'] == 'META']\n",
    "print(META)\n",
    "META_COUNT = META['sentiment_category'].value_counts()\n",
    "print(META_COUNT) \n",
    "#visualizing(META_COUNT)"
   ],
   "outputs": [],
   "execution_count": null
  },
  {
   "cell_type": "code",
   "id": "9f4fdda1-b087-4e47-a6f7-9c9493c682d9",
   "metadata": {},
   "source": [],
   "outputs": [],
   "execution_count": null
  },
  {
   "cell_type": "code",
   "id": "5f9d2064-3859-4caf-bb6a-0f4bb794f664",
   "metadata": {},
   "source": [],
   "outputs": [],
   "execution_count": null
  },
  {
   "cell_type": "code",
   "id": "ba8d1b8b-e8f8-4ada-9428-0195685f7412",
   "metadata": {},
   "source": [],
   "outputs": [],
   "execution_count": null
  },
  {
   "cell_type": "code",
   "id": "2c30ab76-6707-4fe9-917e-5562931dc501",
   "metadata": {},
   "source": [],
   "outputs": [],
   "execution_count": null
  },
  {
   "cell_type": "code",
   "id": "0f3f9d42-931a-41ed-8bea-7ef2ee55baa6",
   "metadata": {},
   "source": [],
   "outputs": [],
   "execution_count": null
  },
  {
   "cell_type": "code",
   "id": "7de53708-7842-47ef-bbe0-bf62dc89f358",
   "metadata": {},
   "source": [],
   "outputs": [],
   "execution_count": null
  },
  {
   "cell_type": "code",
   "id": "92a42320-e9ec-43e1-83dd-ee330c021507",
   "metadata": {},
   "source": [],
   "outputs": [],
   "execution_count": null
  },
  {
   "cell_type": "code",
   "id": "69b5988f-4a5d-463e-a782-3d84261d430a",
   "metadata": {},
   "source": [],
   "outputs": [],
   "execution_count": null
  }
 ],
 "metadata": {
  "kernelspec": {
   "display_name": "Python 3 (ipykernel)",
   "language": "python",
   "name": "python3"
  },
  "language_info": {
   "codemirror_mode": {
    "name": "ipython",
    "version": 3
   },
   "file_extension": ".py",
   "mimetype": "text/x-python",
   "name": "python",
   "nbconvert_exporter": "python",
   "pygments_lexer": "ipython3",
   "version": "3.12.4"
  }
 },
 "nbformat": 4,
 "nbformat_minor": 5
}
